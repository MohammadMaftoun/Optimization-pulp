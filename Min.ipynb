{
  "nbformat": 4,
  "nbformat_minor": 0,
  "metadata": {
    "colab": {
      "name": "Untitled6.ipynb",
      "provenance": []
    },
    "kernelspec": {
      "name": "python3",
      "display_name": "Python 3"
    },
    "language_info": {
      "name": "python"
    }
  },
  "cells": [
    {
      "cell_type": "markdown",
      "source": [
        "# **Another example in minimum case with Pulp**"
      ],
      "metadata": {
        "id": "fMqooZCqn511"
      }
    },
    {
      "cell_type": "code",
      "execution_count": 3,
      "metadata": {
        "colab": {
          "base_uri": "https://localhost:8080/"
        },
        "id": "X7fTgDqfm4Bm",
        "outputId": "e332cf0a-f9e5-45ce-f985-414938d3d85e"
      },
      "outputs": [
        {
          "output_type": "stream",
          "name": "stdout",
          "text": [
            "Looking in indexes: https://pypi.org/simple, https://us-python.pkg.dev/colab-wheels/public/simple/\n",
            "Requirement already satisfied: PuLP in /usr/local/lib/python3.7/dist-packages (2.6.0)\n"
          ]
        }
      ],
      "source": [
        "!pip install PuLP"
      ]
    },
    {
      "cell_type": "code",
      "source": [
        "import pulp as p\n",
        "\n",
        "#In this case we want to minimize loss so, Create a LP minimization problem\n",
        "Lp_prob = p.LpProblem('Problem', p.LpMinimize)\n",
        "\n",
        "# Create problem Variables\n",
        "x = p.LpVariable(\"x\", lowBound = 0) # Create a variable x >= 0\n",
        "y = p.LpVariable(\"y\", lowBound = 0) # Create a variable y >= 0\n"
      ],
      "metadata": {
        "id": "AlHBwoqenf86"
      },
      "execution_count": 11,
      "outputs": []
    },
    {
      "cell_type": "code",
      "source": [
        "Lp_prob += 3 * x + 5 * y\n",
        "\n",
        "# Subject to:\n",
        "Lp_prob += 2 * x + 3 * y >= 12\n",
        "Lp_prob += -x + y <= 3\n",
        "Lp_prob += x >= 4\n",
        "Lp_prob += y <= 3"
      ],
      "metadata": {
        "id": "ze7XYf_4ngG4"
      },
      "execution_count": 12,
      "outputs": []
    },
    {
      "cell_type": "code",
      "source": [
        "# Display the problem\n",
        "print(Lp_prob)\n",
        "\n",
        "status = Lp_prob.solve() # Solver\n",
        "print(p.LpStatus[status]) # The solution status\n",
        "\n",
        "# Printing the answer\n",
        "print(p.value(x), '',p.value(y),\"\" ,p.value(Lp_prob.objective))"
      ],
      "metadata": {
        "colab": {
          "base_uri": "https://localhost:8080/"
        },
        "id": "_I4jiq6DngR5",
        "outputId": "921c9a11-d4cc-4ed2-8e2c-5ae410fe84be"
      },
      "execution_count": 13,
      "outputs": [
        {
          "output_type": "stream",
          "name": "stdout",
          "text": [
            "Problem:\n",
            "MINIMIZE\n",
            "3*x + 5*y + 0\n",
            "SUBJECT TO\n",
            "_C1: 2 x + 3 y >= 12\n",
            "\n",
            "_C2: - x + y <= 3\n",
            "\n",
            "_C3: x >= 4\n",
            "\n",
            "_C4: y <= 3\n",
            "\n",
            "VARIABLES\n",
            "x Continuous\n",
            "y Continuous\n",
            "\n",
            "Optimal\n",
            "6.0  0.0  18.0\n"
          ]
        }
      ]
    }
  ]
}